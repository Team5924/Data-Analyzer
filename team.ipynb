{
 "cells": [
  {
   "cell_type": "markdown",
   "metadata": {},
   "source": [
    "## Preamble"
   ]
  },
  {
   "cell_type": "code",
   "execution_count": 1,
   "metadata": {},
   "outputs": [],
   "source": [
    "#### Imports\n",
    "from files.data import raw_data\n",
    "from api.Data import Data"
   ]
  },
  {
   "cell_type": "code",
   "execution_count": 2,
   "metadata": {},
   "outputs": [
    {
     "data": {
      "text/plain": [
       "<api.Data.Data at 0x11468b4f0>"
      ]
     },
     "execution_count": 2,
     "metadata": {},
     "output_type": "execute_result"
    }
   ],
   "source": [
    "data = Data(raw_data)\n",
    "data.filter('qt').generate_teleopGrid()"
   ]
  },
  {
   "attachments": {},
   "cell_type": "markdown",
   "metadata": {},
   "source": [
    "## Team"
   ]
  },
  {
   "cell_type": "code",
   "execution_count": 3,
   "metadata": {},
   "outputs": [],
   "source": [
    "team = 1351 # Enter team number here"
   ]
  },
  {
   "cell_type": "code",
   "execution_count": 4,
   "metadata": {},
   "outputs": [
    {
     "data": {
      "text/html": [
       "<div>\n",
       "<style scoped>\n",
       "    .dataframe tbody tr th:only-of-type {\n",
       "        vertical-align: middle;\n",
       "    }\n",
       "\n",
       "    .dataframe tbody tr th {\n",
       "        vertical-align: top;\n",
       "    }\n",
       "\n",
       "    .dataframe thead th {\n",
       "        text-align: right;\n",
       "    }\n",
       "</style>\n",
       "<table border=\"1\" class=\"dataframe\">\n",
       "  <thead>\n",
       "    <tr style=\"text-align: right;\">\n",
       "      <th></th>\n",
       "      <th>iD</th>\n",
       "      <th>Match</th>\n",
       "      <th>Team</th>\n",
       "      <th>Alliance</th>\n",
       "      <th>No Show</th>\n",
       "      <th>Mobility</th>\n",
       "      <th>Docked (Auto)</th>\n",
       "      <th>Engaged (Auto)</th>\n",
       "      <th>Disabled</th>\n",
       "      <th>Parked</th>\n",
       "      <th>Docked (Endgame)</th>\n",
       "      <th>Engaged (Endgame)</th>\n",
       "      <th>Score (Auto)</th>\n",
       "      <th>Score (Teleop)</th>\n",
       "      <th>Score (Total)</th>\n",
       "    </tr>\n",
       "  </thead>\n",
       "  <tbody>\n",
       "    <tr>\n",
       "      <th>0</th>\n",
       "      <td>Miles W.</td>\n",
       "      <td>26</td>\n",
       "      <td>1351</td>\n",
       "      <td>Red-2</td>\n",
       "      <td>No</td>\n",
       "      <td>Yes</td>\n",
       "      <td>No</td>\n",
       "      <td>No</td>\n",
       "      <td>No</td>\n",
       "      <td>No</td>\n",
       "      <td>No</td>\n",
       "      <td>No</td>\n",
       "      <td>{'top': 1, 'mid': 0, 'botCone': 0, 'botCube': 0}</td>\n",
       "      <td>{'top': 2, 'mid': 1, 'botCone': 0, 'botCube': 0}</td>\n",
       "      <td>{'top': 2, 'mid': 1, 'botCone': 0, 'botCube': 0}</td>\n",
       "    </tr>\n",
       "  </tbody>\n",
       "</table>\n",
       "</div>"
      ],
      "text/plain": [
       "         iD  Match  Team Alliance No Show Mobility Docked (Auto)  \\\n",
       "0  Miles W.     26  1351    Red-2      No      Yes            No   \n",
       "\n",
       "  Engaged (Auto) Disabled Parked Docked (Endgame) Engaged (Endgame)  \\\n",
       "0             No       No     No               No                No   \n",
       "\n",
       "                                       Score (Auto)  \\\n",
       "0  {'top': 1, 'mid': 0, 'botCone': 0, 'botCube': 0}   \n",
       "\n",
       "                                     Score (Teleop)  \\\n",
       "0  {'top': 2, 'mid': 1, 'botCone': 0, 'botCube': 0}   \n",
       "\n",
       "                                      Score (Total)  \n",
       "0  {'top': 2, 'mid': 1, 'botCone': 0, 'botCube': 0}  "
      ]
     },
     "execution_count": 4,
     "metadata": {},
     "output_type": "execute_result"
    }
   ],
   "source": [
    "data.team(team).process().display()"
   ]
  }
 ],
 "metadata": {
  "kernelspec": {
   "display_name": "base",
   "language": "python",
   "name": "python3"
  },
  "language_info": {
   "codemirror_mode": {
    "name": "ipython",
    "version": 3
   },
   "file_extension": ".py",
   "mimetype": "text/x-python",
   "name": "python",
   "nbconvert_exporter": "python",
   "pygments_lexer": "ipython3",
   "version": "3.10.9"
  },
  "orig_nbformat": 4
 },
 "nbformat": 4,
 "nbformat_minor": 2
}
