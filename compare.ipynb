{
 "cells": [
  {
   "attachments": {},
   "cell_type": "markdown",
   "metadata": {},
   "source": [
    "## Preamble"
   ]
  },
  {
   "cell_type": "code",
   "execution_count": null,
   "metadata": {},
   "outputs": [],
   "source": [
    "#### Imports\n",
    "from files.data import raw_data\n",
    "from modules.Data import Data"
   ]
  },
  {
   "cell_type": "code",
   "execution_count": null,
   "metadata": {},
   "outputs": [],
   "source": [
    "data = Data(raw_data)\n",
    "data.filter('qt').generate_teleopGrid()"
   ]
  },
  {
   "attachments": {},
   "cell_type": "markdown",
   "metadata": {},
   "source": [
    "## Compare"
   ]
  },
  {
   "cell_type": "code",
   "execution_count": null,
   "metadata": {},
   "outputs": [],
   "source": [
    "teams = [] # put the teams you want to compare here (separate with a comma)\n",
    "field = 'Avg Teleop Points Scored' # put the field you want to sort in descending order\n",
    "\n",
    "# * `field` Options:\n",
    "# 'Avg Mobility Rate'\n",
    "# 'Avg Docked Rate (Auto)'\n",
    "# 'Avg Engaged Rate (Auto)'\n",
    "# 'Avg Auto Points Scored'\n",
    "# 'Avg Teleop Points Scored'\n",
    "# 'Avg Docked Rate (Endgame)'\n",
    "# 'Avg Endgame Rate (Endgame)'"
   ]
  },
  {
   "cell_type": "code",
   "execution_count": null,
   "metadata": {},
   "outputs": [],
   "source": [
    "data.compare_teams(teams).sort(field)"
   ]
  }
 ],
 "metadata": {
  "kernelspec": {
   "display_name": "base",
   "language": "python",
   "name": "python3"
  },
  "language_info": {
   "codemirror_mode": {
    "name": "ipython",
    "version": 3
   },
   "file_extension": ".py",
   "mimetype": "text/x-python",
   "name": "python",
   "nbconvert_exporter": "python",
   "pygments_lexer": "ipython3",
   "version": "3.10.9"
  },
  "orig_nbformat": 4
 },
 "nbformat": 4,
 "nbformat_minor": 2
}
