{
 "cells": [
  {
   "cell_type": "code",
   "execution_count": 1,
   "metadata": {},
   "outputs": [],
   "source": [
    "# Imports, self-explanatory\n",
    "import pandas as pd\n",
    "import numpy as np\n",
    "from files.data import *\n",
    "\n",
    "from api import parse"
   ]
  },
  {
   "cell_type": "code",
   "execution_count": 2,
   "metadata": {},
   "outputs": [],
   "source": [
    "# Metadata\n",
    "labels = ['id', 'match', 'team', 'alliance', 'taxi', 'autoChargeStation', 'autoEngaged', 'autoScore', 'teleopScore', 'endgameChargeStation', 'endgameEngaged'] # season-specific\n",
    "id, match, team, alliance, taxi, autoChargeStation, autoEngaged, autoScore, teleopScore, endgameChargeStation, endgameEngaged = 0, 1, 2, 3, 4, 5, 6, 7, 8, 9, 10"
   ]
  },
  {
   "cell_type": "code",
   "execution_count": 3,
   "metadata": {},
   "outputs": [],
   "source": [
    "# import data as a numpy array\n",
    "data = np.array(data)\n",
    "data = parse.json_to_array(data)"
   ]
  },
  {
   "cell_type": "code",
   "execution_count": 4,
   "metadata": {},
   "outputs": [
    {
     "name": "stdout",
     "output_type": "stream",
     "text": [
      "['2' '1' '5924' 'blue-1' '1' 'td' 1\n",
      " {'top': [0, 0, 0, 0, 0, 0, 0, 0, 0], 'mid': [0, 0, 0, 0, 0, 0, 0, 0, 0], 'botCone': [0, 0, 0, 0, 0, 0, 0, 0, 0], 'botCube': [0, 0, 0, 0, 1, 0, 0, 0, 0]}\n",
      " {'top': [0, 0, 0, 0, 0, 1, 0, 0, 0], 'mid': [0, 1, 0, 0, 0, 1, 0, 0, 0], 'botCone': [0, 0, 0, 0, 0, 0, 0, 1, 0], 'botCube': [0, 0, 1, 0, 1, 1, 1, 0, 0]}\n",
      " 'td' 1]\n"
     ]
    }
   ],
   "source": [
    "print(data[0])"
   ]
  },
  {
   "attachments": {},
   "cell_type": "markdown",
   "metadata": {},
   "source": [
    "Team Lookup"
   ]
  },
  {
   "cell_type": "code",
   "execution_count": 5,
   "metadata": {},
   "outputs": [],
   "source": [
    "teams = [5924] # input teams to lookup here\n",
    "\n",
    "# teamData = lookup.team(teams)"
   ]
  }
 ],
 "metadata": {
  "kernelspec": {
   "display_name": "Python 3",
   "language": "python",
   "name": "python3"
  },
  "language_info": {
   "codemirror_mode": {
    "name": "ipython",
    "version": 3
   },
   "file_extension": ".py",
   "mimetype": "text/x-python",
   "name": "python",
   "nbconvert_exporter": "python",
   "pygments_lexer": "ipython3",
   "version": "3.11.1"
  },
  "orig_nbformat": 4,
  "vscode": {
   "interpreter": {
    "hash": "aee8b7b246df8f9039afb4144a1f6fd8d2ca17a180786b69acc140d282b71a49"
   }
  }
 },
 "nbformat": 4,
 "nbformat_minor": 2
}
