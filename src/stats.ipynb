{
 "cells": [
  {
   "cell_type": "code",
   "execution_count": 6,
   "metadata": {},
   "outputs": [],
   "source": [
    "from modules.match_data import raw_data\n",
    "from packages.Analyzer.stats import Stats\n",
    "from modules.teams import teams_list"
   ]
  },
  {
   "cell_type": "code",
   "execution_count": 7,
   "metadata": {},
   "outputs": [],
   "source": [
    "all_teams = []\n",
    "for team in teams_list:\n",
    "    all_teams.append(\n",
    "        team[0]\n",
    "    )"
   ]
  },
  {
   "cell_type": "code",
   "execution_count": null,
   "metadata": {},
   "outputs": [],
   "source": [
    "stats_pu = Stats(raw_data)\n",
    "teams = []"
   ]
  },
  {
   "cell_type": "code",
   "execution_count": null,
   "metadata": {},
   "outputs": [],
   "source": [
    "avg = stats_pu.averages(teams).sort_values([('', 'Total Avg Points')], ascending=False, ignore_index=True)\n",
    "avg.index += 1\n",
    "avg"
   ]
  },
  {
   "cell_type": "code",
   "execution_count": null,
   "metadata": {},
   "outputs": [],
   "source": [
    "weights = [\n",
    "    # Mobility, Docked, Engaged (Auto)\n",
    "    1, 1, 1,\n",
    "    # Top, Mid, Bot (Auto)\n",
    "    [1, 1, 1],\n",
    "    # Top, Mid, Bot (Teleop)\n",
    "    [1, 1, 1],\n",
    "    # Links,\n",
    "    1,\n",
    "    # Parked, Docked, Engaged (Endgame)\n",
    "    1, 1, 1\n",
    "]\n",
    "weighted_avg = stats_pu.weighted_averages(teams, weights).sort_values([('', 'Total Avg Points (Weighted)')], ascending=False)\n",
    "weighted_avg.index += 1\n",
    "weighted_avg"
   ]
  }
 ],
 "metadata": {
  "kernelspec": {
   "display_name": "base",
   "language": "python",
   "name": "python3"
  },
  "language_info": {
   "codemirror_mode": {
    "name": "ipython",
    "version": 3
   },
   "file_extension": ".py",
   "mimetype": "text/x-python",
   "name": "python",
   "nbconvert_exporter": "python",
   "pygments_lexer": "ipython3",
   "version": "3.10.9"
  },
  "orig_nbformat": 4
 },
 "nbformat": 4,
 "nbformat_minor": 2
}
