{
 "cells": [
  {
   "attachments": {},
   "cell_type": "markdown",
   "metadata": {},
   "source": [
    "## Preamble"
   ]
  },
  {
   "cell_type": "code",
   "execution_count": 1,
   "metadata": {},
   "outputs": [],
   "source": [
    "#### Imports\n",
    "from files.data import raw_data\n",
    "from files.teams import all_teams\n",
    "from modules.Data import Data"
   ]
  },
  {
   "cell_type": "code",
   "execution_count": 2,
   "metadata": {},
   "outputs": [
    {
     "data": {
      "text/plain": [
       "<modules.Data.Data at 0x11ca87a00>"
      ]
     },
     "execution_count": 2,
     "metadata": {},
     "output_type": "execute_result"
    }
   ],
   "source": [
    "data = Data(raw_data)\n",
    "data.filter('qt').generate_teleopGrid()"
   ]
  },
  {
   "attachments": {},
   "cell_type": "markdown",
   "metadata": {},
   "source": [
    "## Compare"
   ]
  },
  {
   "cell_type": "code",
   "execution_count": 3,
   "metadata": {},
   "outputs": [],
   "source": [
    "teams = [5924, 1967, 8852] # put the teams you want to compare here (separate with a comma)\n",
    "field = 'Avg Teleop Points Scored' # put the field you want to sort in descending order\n",
    "\n",
    "# * `field` Options:\n",
    "# 'Avg Mobility Rate'\n",
    "# 'Avg Docked Rate (Auto)'\n",
    "# 'Avg Engaged Rate (Auto)'\n",
    "# 'Avg Auto Points Scored'\n",
    "# 'Avg Teleop Points Scored'\n",
    "# 'Avg Docked Rate (Endgame)'\n",
    "# 'Avg Endgame Rate (Endgame)'"
   ]
  },
  {
   "cell_type": "code",
   "execution_count": 4,
   "metadata": {},
   "outputs": [
    {
     "data": {
      "text/html": [
       "<div>\n",
       "<style scoped>\n",
       "    .dataframe tbody tr th:only-of-type {\n",
       "        vertical-align: middle;\n",
       "    }\n",
       "\n",
       "    .dataframe tbody tr th {\n",
       "        vertical-align: top;\n",
       "    }\n",
       "\n",
       "    .dataframe thead th {\n",
       "        text-align: right;\n",
       "    }\n",
       "</style>\n",
       "<table border=\"1\" class=\"dataframe\">\n",
       "  <thead>\n",
       "    <tr style=\"text-align: right;\">\n",
       "      <th></th>\n",
       "      <th>Team</th>\n",
       "      <th>Mobility %</th>\n",
       "      <th>Avg Docked (Auto) %</th>\n",
       "      <th>Engaged (Auto) %</th>\n",
       "      <th>Avg Auto Points Scored</th>\n",
       "      <th>Avg Teleop Points Scored</th>\n",
       "      <th>Docked (Endgame) %</th>\n",
       "      <th>Endgame (Endgame) %</th>\n",
       "    </tr>\n",
       "  </thead>\n",
       "  <tbody>\n",
       "    <tr>\n",
       "      <th>1</th>\n",
       "      <td>1967</td>\n",
       "      <td>54.55</td>\n",
       "      <td>72.73</td>\n",
       "      <td>72.73</td>\n",
       "      <td>3.09</td>\n",
       "      <td>12.18</td>\n",
       "      <td>81.82</td>\n",
       "      <td>81.82</td>\n",
       "    </tr>\n",
       "    <tr>\n",
       "      <th>2</th>\n",
       "      <td>8852</td>\n",
       "      <td>87.50</td>\n",
       "      <td>0.00</td>\n",
       "      <td>0.00</td>\n",
       "      <td>6.00</td>\n",
       "      <td>8.00</td>\n",
       "      <td>37.50</td>\n",
       "      <td>37.50</td>\n",
       "    </tr>\n",
       "    <tr>\n",
       "      <th>0</th>\n",
       "      <td>5924</td>\n",
       "      <td>37.50</td>\n",
       "      <td>62.50</td>\n",
       "      <td>62.50</td>\n",
       "      <td>3.00</td>\n",
       "      <td>3.62</td>\n",
       "      <td>50.00</td>\n",
       "      <td>50.00</td>\n",
       "    </tr>\n",
       "  </tbody>\n",
       "</table>\n",
       "</div>"
      ],
      "text/plain": [
       "   Team  Mobility %  Avg Docked (Auto) %  Engaged (Auto) %  \\\n",
       "1  1967       54.55                72.73             72.73   \n",
       "2  8852       87.50                 0.00              0.00   \n",
       "0  5924       37.50                62.50             62.50   \n",
       "\n",
       "   Avg Auto Points Scored  Avg Teleop Points Scored  Docked (Endgame) %  \\\n",
       "1                    3.09                     12.18               81.82   \n",
       "2                    6.00                      8.00               37.50   \n",
       "0                    3.00                      3.62               50.00   \n",
       "\n",
       "   Endgame (Endgame) %  \n",
       "1                81.82  \n",
       "2                37.50  \n",
       "0                50.00  "
      ]
     },
     "execution_count": 4,
     "metadata": {},
     "output_type": "execute_result"
    }
   ],
   "source": [
    "data.compare_teams(teams).sort(field)"
   ]
  }
 ],
 "metadata": {
  "kernelspec": {
   "display_name": "base",
   "language": "python",
   "name": "python3"
  },
  "language_info": {
   "codemirror_mode": {
    "name": "ipython",
    "version": 3
   },
   "file_extension": ".py",
   "mimetype": "text/x-python",
   "name": "python",
   "nbconvert_exporter": "python",
   "pygments_lexer": "ipython3",
   "version": "3.10.9"
  },
  "orig_nbformat": 4
 },
 "nbformat": 4,
 "nbformat_minor": 2
}
